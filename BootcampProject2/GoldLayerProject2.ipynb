{
 "cells": [
  {
   "cell_type": "code",
   "execution_count": 0,
   "metadata": {
    "application/vnd.databricks.v1+cell": {
     "cellMetadata": {
      "byteLimit": 2048000,
      "implicitDf": true,
      "rowLimit": 10000
     },
     "inputWidgets": {},
     "nuid": "df16f94f-31c0-4aec-bbb3-a16e5b3737f6",
     "showTitle": false,
     "tableResultSettingsMap": {},
     "title": ""
    }
   },
   "outputs": [],
   "source": [
    "%sql\n",
    "CREATE TABLE IF NOT EXISTS hive_metastore.default.accounts\n",
    "(\n",
    "    account_id int,\n",
    "    customer_id int,\n",
    "    account_type string,\n",
    "    balance double,\n",
    "    hashkey BIGINT,\n",
    "    createdby string,\n",
    "    createddate timestamp,\n",
    "    updatedby string,\n",
    "    updateddate timestamp\n",
    "\n",
    ")\n",
    "USING DELTA\n",
    "LOCATION '/mnt/adlsgen2project2container/GoldLayer/Accounts';"
   ]
  },
  {
   "cell_type": "code",
   "execution_count": 0,
   "metadata": {
    "application/vnd.databricks.v1+cell": {
     "cellMetadata": {
      "byteLimit": 2048000,
      "implicitDf": true,
      "rowLimit": 10000
     },
     "inputWidgets": {},
     "nuid": "f45161dd-4186-46c3-905c-8c0e60c3666a",
     "showTitle": false,
     "tableResultSettingsMap": {},
     "title": ""
    }
   },
   "outputs": [],
   "source": [
    "%sql\n",
    "CREATE TABLE IF NOT EXISTS hive_metastore.default.customers\n",
    "(\n",
    "    customer_id int,\n",
    "    first_name string,\n",
    "    last_name string,\n",
    "    address string,\n",
    "    city string,\n",
    "    state string,\n",
    "    zip string,\n",
    "    hashkey BIGINT,\n",
    "    createdby string,\n",
    "    createddate timestamp,\n",
    "    updatedby string,\n",
    "    updateddate timestamp\n",
    "\n",
    ")\n",
    "USING DELTA\n",
    "LOCATION '/mnt/adlsgen2project2container/GoldLayer/Customers';"
   ]
  },
  {
   "cell_type": "code",
   "execution_count": 0,
   "metadata": {
    "application/vnd.databricks.v1+cell": {
     "cellMetadata": {
      "byteLimit": 2048000,
      "implicitDf": true,
      "rowLimit": 10000
     },
     "inputWidgets": {},
     "nuid": "0566eb77-daf1-4155-b687-bcdf11cd710f",
     "showTitle": false,
     "tableResultSettingsMap": {},
     "title": ""
    }
   },
   "outputs": [],
   "source": [
    "%sql\n",
    "CREATE TABLE IF NOT EXISTS hive_metastore.default.loanpayments\n",
    "(\n",
    "    payment_id int,\n",
    "    loan_id int,\n",
    "    payment_date timestamp,\n",
    "    payment_amount double,\n",
    "    hashkey BIGINT,\n",
    "    createdby string,\n",
    "    createddate timestamp,\n",
    "    updatedby string,\n",
    "    updateddate timestamp\n",
    "\n",
    ")\n",
    "USING DELTA\n",
    "LOCATION '/mnt/adlsgen2project2container/GoldLayer/LoanPayments';"
   ]
  },
  {
   "cell_type": "code",
   "execution_count": 0,
   "metadata": {
    "application/vnd.databricks.v1+cell": {
     "cellMetadata": {
      "byteLimit": 2048000,
      "implicitDf": true,
      "rowLimit": 10000
     },
     "inputWidgets": {},
     "nuid": "4b822cce-55f7-4037-866c-c536c5f31ea3",
     "showTitle": false,
     "tableResultSettingsMap": {},
     "title": ""
    }
   },
   "outputs": [],
   "source": [
    "%sql\n",
    "CREATE TABLE IF NOT EXISTS hive_metastore.default.loans\n",
    "(\n",
    "    loan_id int,\n",
    "    customer_id int,\n",
    "    loan_amount double,\n",
    "    interest_rate double,\n",
    "    loan_term int,\n",
    "    hashkey BIGINT,\n",
    "    createdby string,\n",
    "    createddate timestamp,\n",
    "    updatedby string,\n",
    "    updateddate timestamp\n",
    "\n",
    ")\n",
    "USING DELTA\n",
    "LOCATION '/mnt/adlsgen2project2container/GoldLayer/Loans';"
   ]
  },
  {
   "cell_type": "code",
   "execution_count": 0,
   "metadata": {
    "application/vnd.databricks.v1+cell": {
     "cellMetadata": {
      "byteLimit": 2048000,
      "implicitDf": true,
      "rowLimit": 10000
     },
     "inputWidgets": {},
     "nuid": "3ca45a15-3894-44bf-b73f-2c1490abe459",
     "showTitle": false,
     "tableResultSettingsMap": {},
     "title": ""
    }
   },
   "outputs": [],
   "source": [
    "%sql\n",
    "CREATE TABLE IF NOT EXISTS hive_metastore.default.transactions\n",
    "(\n",
    "    transaction_id int,\n",
    "    account_id int,\n",
    "    transaction_date TIMESTAMP,\n",
    "    transaction_amount double,\n",
    "    transaction_type string,\n",
    "    hashkey BIGINT,\n",
    "    createdby string,\n",
    "    createddate timestamp,\n",
    "    updatedby string,\n",
    "    updateddate timestamp\n",
    "\n",
    ")\n",
    "USING DELTA\n",
    "LOCATION '/mnt/adlsgen2project2container/GoldLayer/Transactions';"
   ]
  },
  {
   "cell_type": "code",
   "execution_count": 0,
   "metadata": {
    "application/vnd.databricks.v1+cell": {
     "cellMetadata": {
      "byteLimit": 2048000,
      "rowLimit": 10000
     },
     "inputWidgets": {},
     "nuid": "acfa5cf7-a49d-4c36-99c1-1cfb4b62bb43",
     "showTitle": false,
     "tableResultSettingsMap": {},
     "title": ""
    }
   },
   "outputs": [],
   "source": [
    "df_accounts = spark.read.format(\"parquet\").load(\"/mnt/adlsgen2project2container/SilverLayer/ParquetFiles/Accounts\")"
   ]
  },
  {
   "cell_type": "code",
   "execution_count": 0,
   "metadata": {
    "application/vnd.databricks.v1+cell": {
     "cellMetadata": {
      "byteLimit": 2048000,
      "rowLimit": 10000
     },
     "inputWidgets": {},
     "nuid": "7eeddf55-4b3b-4cb0-be93-7ff676953be1",
     "showTitle": false,
     "tableResultSettingsMap": {},
     "title": ""
    }
   },
   "outputs": [],
   "source": [
    "df_accounts.printSchema()\n",
    "display(df_accounts)"
   ]
  },
  {
   "cell_type": "code",
   "execution_count": 0,
   "metadata": {
    "application/vnd.databricks.v1+cell": {
     "cellMetadata": {
      "byteLimit": 2048000,
      "rowLimit": 10000
     },
     "inputWidgets": {},
     "nuid": "0bae57d2-a024-4bcf-b878-60c3b3a72834",
     "showTitle": false,
     "tableResultSettingsMap": {},
     "title": ""
    }
   },
   "outputs": [],
   "source": [
    "from pyspark.sql.functions import col"
   ]
  },
  {
   "cell_type": "code",
   "execution_count": 0,
   "metadata": {
    "application/vnd.databricks.v1+cell": {
     "cellMetadata": {
      "byteLimit": 2048000,
      "rowLimit": 10000
     },
     "inputWidgets": {},
     "nuid": "ae9df267-1999-4af1-863f-c73a44467ffc",
     "showTitle": false,
     "tableResultSettingsMap": {},
     "title": ""
    }
   },
   "outputs": [],
   "source": [
    "df_accounts=df_accounts.select(col('account_id').alias('src_account_id'),col('customer_id').alias('src_customer_id'),col('account_type').alias('src_account_type'),col('balance').alias('src_balance'))\n",
    "display(df_accounts)"
   ]
  },
  {
   "cell_type": "code",
   "execution_count": 0,
   "metadata": {
    "application/vnd.databricks.v1+cell": {
     "cellMetadata": {
      "byteLimit": 2048000,
      "rowLimit": 10000
     },
     "inputWidgets": {},
     "nuid": "76b29003-5b46-4ce7-b43d-50b47379e849",
     "showTitle": false,
     "tableResultSettingsMap": {},
     "title": ""
    }
   },
   "outputs": [],
   "source": [
    "from pyspark.sql.functions import *"
   ]
  },
  {
   "cell_type": "code",
   "execution_count": 0,
   "metadata": {
    "application/vnd.databricks.v1+cell": {
     "cellMetadata": {
      "byteLimit": 2048000,
      "rowLimit": 10000
     },
     "inputWidgets": {},
     "nuid": "6588393c-f3f3-44f3-9c0a-00f0bd7ade12",
     "showTitle": false,
     "tableResultSettingsMap": {},
     "title": ""
    }
   },
   "outputs": [],
   "source": [
    "df_accounts_hash=df_accounts.withColumn('src_hash', crc32(concat(col('src_account_id'), col('src_customer_id'), col('src_account_type'), col('src_balance'))))\n",
    "display(df_accounts_hash)"
   ]
  },
  {
   "cell_type": "code",
   "execution_count": 0,
   "metadata": {
    "application/vnd.databricks.v1+cell": {
     "cellMetadata": {
      "byteLimit": 2048000,
      "rowLimit": 10000
     },
     "inputWidgets": {},
     "nuid": "03cd20f9-6122-4d87-aa7b-9bdd3d4abd65",
     "showTitle": false,
     "tableResultSettingsMap": {},
     "title": ""
    }
   },
   "outputs": [],
   "source": [
    "tgt_path_Accounts='/mnt/adlsgen2project2container/GoldLayer/Accounts'"
   ]
  },
  {
   "cell_type": "code",
   "execution_count": 0,
   "metadata": {
    "application/vnd.databricks.v1+cell": {
     "cellMetadata": {
      "byteLimit": 2048000,
      "rowLimit": 10000
     },
     "inputWidgets": {},
     "nuid": "b4309cfc-fc77-4b2b-820a-6683ab762435",
     "showTitle": false,
     "tableResultSettingsMap": {},
     "title": ""
    }
   },
   "outputs": [],
   "source": [
    "from delta.tables import DeltaTable\n",
    "dtableaccounts = DeltaTable.forPath(spark, tgt_path_Accounts)\n",
    "dtableaccounts.toDF().show()"
   ]
  },
  {
   "cell_type": "code",
   "execution_count": 0,
   "metadata": {
    "application/vnd.databricks.v1+cell": {
     "cellMetadata": {
      "byteLimit": 2048000,
      "rowLimit": 10000
     },
     "inputWidgets": {},
     "nuid": "b520ee5d-34b3-46e6-8997-9947af5f9bc9",
     "showTitle": false,
     "tableResultSettingsMap": {},
     "title": ""
    }
   },
   "outputs": [],
   "source": [
    "df_src=df_accounts_hash.alias(\"src\").join(dtableaccounts.toDF().alias(\"tgt\"), ((col(\"src.src_account_id\")== col(\"tgt.account_id\")) & (col(\"src.src_hash\")== col(\"tgt.hashkey\"))),\"anti\").select(\"src.*\")"
   ]
  },
  {
   "cell_type": "code",
   "execution_count": 0,
   "metadata": {
    "application/vnd.databricks.v1+cell": {
     "cellMetadata": {
      "byteLimit": 2048000,
      "rowLimit": 10000
     },
     "inputWidgets": {},
     "nuid": "75fcc16f-eb6d-4c2d-b64c-43c854714364",
     "showTitle": false,
     "tableResultSettingsMap": {},
     "title": ""
    }
   },
   "outputs": [],
   "source": [
    "display(df_src)"
   ]
  },
  {
   "cell_type": "code",
   "execution_count": 0,
   "metadata": {
    "application/vnd.databricks.v1+cell": {
     "cellMetadata": {
      "byteLimit": 2048000,
      "rowLimit": 10000
     },
     "inputWidgets": {},
     "nuid": "29348fc6-9c33-47a7-a48b-9c34fa7b581c",
     "showTitle": false,
     "tableResultSettingsMap": {},
     "title": ""
    }
   },
   "outputs": [],
   "source": [
    "dtableaccounts.alias(\"tgt\").merge(\n",
    "    df_src.alias(\"src\"), \"tgt.account_id = src.src_account_id\"\n",
    ").whenMatchedUpdate(\n",
    "    set={\n",
    "        \"tgt.account_id\": \"src.src_account_id\",\n",
    "        \"tgt.customer_id\": \"src.src_customer_id\",\n",
    "        \"tgt.account_type\": \"src.src_account_type\",\n",
    "        \"tgt.balance\": \"src.src_balance\",\n",
    "        \"tgt.hashkey\": \"src.src_hash\",\n",
    "        \"tgt.updateddate\": current_timestamp(),\n",
    "        \"tgt.updatedby\": lit(\"databricks-updated\")\n",
    "    }\n",
    ")\\\n",
    "    .whenNotMatchedInsert(\n",
    "    values={\n",
    "        \"tgt.account_id\": \"src.src_account_id\",\n",
    "        \"tgt.customer_id\": \"src.src_customer_id\",\n",
    "        \"tgt.account_type\": \"src.src_account_type\",\n",
    "        \"tgt.balance\": \"src.src_balance\",\n",
    "        \"tgt.hashkey\": \"src.src_hash\",\n",
    "        \"tgt.createddate\": current_timestamp(),\n",
    "        \"tgt.createdby\": lit(\"databricks\"),\n",
    "        \"tgt.updateddate\": current_timestamp(),\n",
    "        \"tgt.updatedby\": lit(\"databricks\")\n",
    "    }\n",
    ").execute()"
   ]
  },
  {
   "cell_type": "code",
   "execution_count": 0,
   "metadata": {
    "application/vnd.databricks.v1+cell": {
     "cellMetadata": {
      "byteLimit": 2048000,
      "implicitDf": true,
      "rowLimit": 10000
     },
     "inputWidgets": {},
     "nuid": "2d1e11e8-025e-44ec-8aee-664b552f1a83",
     "showTitle": false,
     "tableResultSettingsMap": {},
     "title": ""
    }
   },
   "outputs": [],
   "source": [
    "%sql\n",
    "select * from hive_metastore.default.accounts"
   ]
  },
  {
   "cell_type": "code",
   "execution_count": 0,
   "metadata": {
    "application/vnd.databricks.v1+cell": {
     "cellMetadata": {
      "byteLimit": 2048000,
      "rowLimit": 10000
     },
     "inputWidgets": {},
     "nuid": "93dc0a9b-da7c-44eb-8b63-eef29d3f96fc",
     "showTitle": false,
     "tableResultSettingsMap": {},
     "title": ""
    }
   },
   "outputs": [],
   "source": [
    "df_customers=spark.read.format(\"parquet\").load(\"/mnt/adlsgen2project2container/SilverLayer/ParquetFiles/Customers\")"
   ]
  },
  {
   "cell_type": "code",
   "execution_count": 0,
   "metadata": {
    "application/vnd.databricks.v1+cell": {
     "cellMetadata": {
      "byteLimit": 2048000,
      "rowLimit": 10000
     },
     "inputWidgets": {},
     "nuid": "c5b60302-b50e-4405-828e-af2e206c8810",
     "showTitle": false,
     "tableResultSettingsMap": {},
     "title": ""
    }
   },
   "outputs": [],
   "source": [
    "display(df_customers)"
   ]
  },
  {
   "cell_type": "code",
   "execution_count": 0,
   "metadata": {
    "application/vnd.databricks.v1+cell": {
     "cellMetadata": {
      "byteLimit": 2048000,
      "rowLimit": 10000
     },
     "inputWidgets": {},
     "nuid": "a4ba575c-bb33-4ce5-94f6-25e5df1eb249",
     "showTitle": false,
     "tableResultSettingsMap": {},
     "title": ""
    }
   },
   "outputs": [],
   "source": [
    "df_customers_hash=df_customers.withColumn('src_hash', crc32(concat(col('customer_id'), col('first_name'), col('last_name'),col('address'), col('city'), col('state'), col('zip'))))\n",
    "display(df_customers_hash)"
   ]
  },
  {
   "cell_type": "code",
   "execution_count": 0,
   "metadata": {
    "application/vnd.databricks.v1+cell": {
     "cellMetadata": {
      "byteLimit": 2048000,
      "rowLimit": 10000
     },
     "inputWidgets": {},
     "nuid": "69e335f7-6cd3-4f5d-8079-faf4aa0aac23",
     "showTitle": false,
     "tableResultSettingsMap": {},
     "title": ""
    }
   },
   "outputs": [],
   "source": [
    "tgt_path_Customers='/mnt/adlsgen2project2container/GoldLayer/Customers'\n",
    "from delta.tables import DeltaTable\n",
    "dtablecustomers = DeltaTable.forPath(spark, tgt_path_Customers)\n",
    "dtablecustomers.toDF().show()"
   ]
  },
  {
   "cell_type": "code",
   "execution_count": 0,
   "metadata": {
    "application/vnd.databricks.v1+cell": {
     "cellMetadata": {
      "byteLimit": 2048000,
      "rowLimit": 10000
     },
     "inputWidgets": {},
     "nuid": "763e994a-1331-4d45-99f1-ff944736db31",
     "showTitle": false,
     "tableResultSettingsMap": {},
     "title": ""
    }
   },
   "outputs": [],
   "source": [
    "df_src_customers=df_customers_hash.alias(\"src\").join(dtablecustomers.toDF().alias(\"tgt\"), ((col(\"src.customer_id\")== col(\"tgt.customer_id\")) & (col(\"src.src_hash\")== col(\"tgt.hashkey\"))),\"anti\").select(\"src.*\")"
   ]
  },
  {
   "cell_type": "code",
   "execution_count": 0,
   "metadata": {
    "application/vnd.databricks.v1+cell": {
     "cellMetadata": {
      "byteLimit": 2048000,
      "rowLimit": 10000
     },
     "inputWidgets": {},
     "nuid": "88f9eb4e-acd8-4543-b4ee-27ad536170ef",
     "showTitle": false,
     "tableResultSettingsMap": {},
     "title": ""
    }
   },
   "outputs": [],
   "source": [
    "display(df_src_customers)"
   ]
  },
  {
   "cell_type": "code",
   "execution_count": 0,
   "metadata": {
    "application/vnd.databricks.v1+cell": {
     "cellMetadata": {
      "byteLimit": 2048000,
      "rowLimit": 10000
     },
     "inputWidgets": {},
     "nuid": "6a81b58f-8f72-4a07-93b3-c6248539bf79",
     "showTitle": false,
     "tableResultSettingsMap": {},
     "title": ""
    }
   },
   "outputs": [],
   "source": [
    "dtablecustomers.alias(\"tgt\").merge(\n",
    "    df_src_customers.alias(\"src\"), \"tgt.customer_id = src.customer_id\"\n",
    ").whenMatchedUpdate(\n",
    "    set={\n",
    "        \"tgt.customer_id\": \"src.customer_id\",\n",
    "        \"tgt.first_name\": \"src.first_name\",\n",
    "        \"tgt.last_name\": \"src.last_name\",\n",
    "        \"tgt.address\": \"src.address\",\n",
    "        \"tgt.city\": \"src.city\",\n",
    "        \"tgt.state\": \"src.state\",\n",
    "        \"tgt.zip\": \"src.zip\",\n",
    "        \"tgt.hashkey\": \"src.src_hash\",\n",
    "        \"tgt.updateddate\": current_timestamp(),\n",
    "        \"tgt.updatedby\": lit(\"databricks-updated\")\n",
    "    }\n",
    ").whenNotMatchedInsert(\n",
    "    values={\n",
    "        \"tgt.customer_id\": \"src.customer_id\",\n",
    "        \"tgt.first_name\": \"src.first_name\",\n",
    "        \"tgt.last_name\": \"src.last_name\",\n",
    "        \"tgt.address\": \"src.address\",\n",
    "        \"tgt.city\": \"src.city\",\n",
    "        \"tgt.state\": \"src.state\",\n",
    "        \"tgt.zip\": \"src.zip\",\n",
    "        \"tgt.hashkey\": \"src.src_hash\",\n",
    "        \"tgt.createddate\": current_timestamp(),\n",
    "        \"tgt.createdby\": lit(\"databricks\"),\n",
    "        \"tgt.updateddate\": current_timestamp(),\n",
    "        \"tgt.updatedby\": lit(\"databricks\")\n",
    "    }\n",
    ").execute()"
   ]
  },
  {
   "cell_type": "code",
   "execution_count": 0,
   "metadata": {
    "application/vnd.databricks.v1+cell": {
     "cellMetadata": {
      "byteLimit": 2048000,
      "implicitDf": true,
      "rowLimit": 10000
     },
     "inputWidgets": {},
     "nuid": "2fee4868-4652-4684-b4ba-ab22ee42ef7d",
     "showTitle": false,
     "tableResultSettingsMap": {},
     "title": ""
    }
   },
   "outputs": [],
   "source": [
    "%sql\n",
    "select * from hive_metastore.default.customers"
   ]
  },
  {
   "cell_type": "code",
   "execution_count": 0,
   "metadata": {
    "application/vnd.databricks.v1+cell": {
     "cellMetadata": {
      "byteLimit": 2048000,
      "rowLimit": 10000
     },
     "inputWidgets": {},
     "nuid": "db0deed3-6c7c-4bcf-8ae8-d044f0b6597e",
     "showTitle": false,
     "tableResultSettingsMap": {},
     "title": ""
    }
   },
   "outputs": [],
   "source": [
    "df_loans=spark.read.format(\"parquet\").load(\"/mnt/adlsgen2project2container/SilverLayer/ParquetFiles/Loans\")\n",
    "display(df_loans)"
   ]
  },
  {
   "cell_type": "code",
   "execution_count": 0,
   "metadata": {
    "application/vnd.databricks.v1+cell": {
     "cellMetadata": {
      "byteLimit": 2048000,
      "rowLimit": 10000
     },
     "inputWidgets": {},
     "nuid": "fc6df3c7-3015-4eed-83fb-1d6348f66223",
     "showTitle": false,
     "tableResultSettingsMap": {},
     "title": ""
    }
   },
   "outputs": [],
   "source": [
    "df_hashloans=df_loans.withColumn('src_hash', crc32(concat(col('loan_id'), col('customer_id'), col('loan_amount'), col('interest_rate'), col('loan_term'))))\n",
    "display(df_hashloans)"
   ]
  },
  {
   "cell_type": "code",
   "execution_count": 0,
   "metadata": {
    "application/vnd.databricks.v1+cell": {
     "cellMetadata": {
      "byteLimit": 2048000,
      "rowLimit": 10000
     },
     "inputWidgets": {},
     "nuid": "18bdbe2f-8aaa-4387-abd0-ccc4f4c63bfd",
     "showTitle": false,
     "tableResultSettingsMap": {},
     "title": ""
    }
   },
   "outputs": [],
   "source": [
    "tgt_path_Loans='/mnt/adlsgen2project2container/GoldLayer/Loans'\n",
    "from delta.tables import DeltaTable\n",
    "dtableloans = DeltaTable.forPath(spark, tgt_path_Loans)\n",
    "dtableloans.toDF().show()"
   ]
  },
  {
   "cell_type": "code",
   "execution_count": 0,
   "metadata": {
    "application/vnd.databricks.v1+cell": {
     "cellMetadata": {
      "byteLimit": 2048000,
      "rowLimit": 10000
     },
     "inputWidgets": {},
     "nuid": "dfebf88c-45f1-4b96-950c-880d73e5fb6e",
     "showTitle": false,
     "tableResultSettingsMap": {},
     "title": ""
    }
   },
   "outputs": [],
   "source": [
    "df_src_loans=df_hashloans.alias(\"src\").join(dtableloans.toDF().alias(\"tgt\"), ((col(\"src.loan_id\")== col(\"tgt.loan_id\")) & (col(\"src.src_hash\")== col(\"tgt.hashkey\"))),\"anti\").select(\"src.*\")\n",
    "display(df_src_loans)\n"
   ]
  },
  {
   "cell_type": "code",
   "execution_count": 0,
   "metadata": {
    "application/vnd.databricks.v1+cell": {
     "cellMetadata": {
      "byteLimit": 2048000,
      "rowLimit": 10000
     },
     "inputWidgets": {},
     "nuid": "63a4f8aa-2a14-416f-9875-2441cda1c793",
     "showTitle": false,
     "tableResultSettingsMap": {},
     "title": ""
    }
   },
   "outputs": [],
   "source": [
    "dtableloans.alias(\"tgt\").merge(\n",
    "    df_src_loans.alias(\"src\"), \"tgt.loan_id = src.loan_id\"\n",
    ").whenMatchedUpdate(\n",
    "    set={\n",
    "        \"tgt.loan_id\": \"src.loan_id\",\n",
    "        \"tgt.customer_id\": \"src.customer_id\",\n",
    "        \"tgt.loan_amount\": \"src.loan_amount\",\n",
    "        \"tgt.interest_rate\": \"src.interest_rate\",\n",
    "        \"tgt.loan_term\": \"src.loan_term\",\n",
    "        \"tgt.hashkey\": \"src.src_hash\",\n",
    "        \"tgt.updateddate\": current_timestamp(),\n",
    "        \"tgt.updatedby\": lit(\"databricks-updated\")\n",
    "    }\n",
    ").whenNotMatchedInsert(\n",
    "    values={\n",
    "        \"tgt.loan_id\": \"src.loan_id\",\n",
    "        \"tgt.customer_id\": \"src.customer_id\",\n",
    "        \"tgt.loan_amount\": \"src.loan_amount\",\n",
    "        \"tgt.interest_rate\": \"src.interest_rate\",\n",
    "        \"tgt.loan_term\": \"src.loan_term\",\n",
    "        \"tgt.hashkey\": \"src.src_hash\",\n",
    "        \"tgt.createddate\": current_timestamp(),\n",
    "        \"tgt.createdby\": lit(\"databricks\"),\n",
    "        \"tgt.updateddate\": current_timestamp(),\n",
    "        \"tgt.updatedby\": lit(\"databricks\")\n",
    "    }\n",
    ").execute()"
   ]
  },
  {
   "cell_type": "code",
   "execution_count": 0,
   "metadata": {
    "application/vnd.databricks.v1+cell": {
     "cellMetadata": {
      "byteLimit": 2048000,
      "implicitDf": true,
      "rowLimit": 10000
     },
     "inputWidgets": {},
     "nuid": "d5570107-5c7c-42b9-be5c-5e26bb3aafef",
     "showTitle": false,
     "tableResultSettingsMap": {},
     "title": ""
    }
   },
   "outputs": [],
   "source": [
    "%sql\n",
    "select * from hive_metastore.default.loans"
   ]
  },
  {
   "cell_type": "code",
   "execution_count": 0,
   "metadata": {
    "application/vnd.databricks.v1+cell": {
     "cellMetadata": {
      "byteLimit": 2048000,
      "rowLimit": 10000
     },
     "inputWidgets": {},
     "nuid": "7a9e41a5-0d74-4c38-b974-16c64e013c8d",
     "showTitle": false,
     "tableResultSettingsMap": {},
     "title": ""
    }
   },
   "outputs": [],
   "source": [
    "df_loanPayments=spark.read.format(\"parquet\").load(\"/mnt/adlsgen2project2container/SilverLayer/ParquetFiles/LoanPayments\")\n",
    "display(df_loanPayments)\n"
   ]
  },
  {
   "cell_type": "code",
   "execution_count": 0,
   "metadata": {
    "application/vnd.databricks.v1+cell": {
     "cellMetadata": {
      "byteLimit": 2048000,
      "rowLimit": 10000
     },
     "inputWidgets": {},
     "nuid": "d0cd0524-c39b-4e0f-b8fa-09ba2bd009e2",
     "showTitle": false,
     "tableResultSettingsMap": {},
     "title": ""
    }
   },
   "outputs": [],
   "source": [
    "df_hashloanPayments=df_loanPayments.withColumn('src_hash', crc32(concat(col('payment_id'), col('loan_id'), col('payment_date'), col('payment_amount'))))\n",
    "display(df_hashloanPayments)\n"
   ]
  },
  {
   "cell_type": "code",
   "execution_count": 0,
   "metadata": {
    "application/vnd.databricks.v1+cell": {
     "cellMetadata": {
      "byteLimit": 2048000,
      "rowLimit": 10000
     },
     "inputWidgets": {},
     "nuid": "76173134-2d75-4529-8484-20b5fba96f3b",
     "showTitle": false,
     "tableResultSettingsMap": {},
     "title": ""
    }
   },
   "outputs": [],
   "source": [
    "tgt_path_LoanPayments='/mnt/adlsgen2project2container/GoldLayer/LoanPayments'\n",
    "from delta.tables import DeltaTable\n",
    "dtableloanPayments = DeltaTable.forPath(spark, tgt_path_LoanPayments)\n",
    "dtableloanPayments.toDF().show()"
   ]
  },
  {
   "cell_type": "code",
   "execution_count": 0,
   "metadata": {
    "application/vnd.databricks.v1+cell": {
     "cellMetadata": {
      "byteLimit": 2048000,
      "rowLimit": 10000
     },
     "inputWidgets": {},
     "nuid": "787ded96-e753-4727-adbd-dd3a340ebf57",
     "showTitle": false,
     "tableResultSettingsMap": {},
     "title": ""
    }
   },
   "outputs": [],
   "source": [
    "df_src_loanPayments=df_hashloanPayments.alias(\"src\").join(dtableloanPayments.toDF().alias(\"tgt\"), ((col(\"src.payment_id\")== col(\"tgt.payment_id\")) & (col(\"src.src_hash\")== col(\"tgt.hashkey\"))),\"anti\").select(\"src.*\")\n",
    "display(df_src_loanPayments)\n"
   ]
  },
  {
   "cell_type": "code",
   "execution_count": 0,
   "metadata": {
    "application/vnd.databricks.v1+cell": {
     "cellMetadata": {
      "byteLimit": 2048000,
      "rowLimit": 10000
     },
     "inputWidgets": {},
     "nuid": "e16b7a6c-13ed-45d5-a0c1-0f2d09f8f686",
     "showTitle": false,
     "tableResultSettingsMap": {},
     "title": ""
    }
   },
   "outputs": [],
   "source": [
    "dtableloanPayments.alias(\"tgt\").merge(\n",
    "    df_src_loanPayments.alias(\"src\"), \"tgt.payment_id = src.payment_id\"\n",
    ").whenMatchedUpdate(\n",
    "    set={\n",
    "        \"tgt.payment_id\": \"src.payment_id\",\n",
    "        \"tgt.loan_id\": \"src.loan_id\",\n",
    "        \"tgt.payment_date\": \"src.payment_date\",\n",
    "        \"tgt.payment_amount\": \"src.payment_amount\",\n",
    "        \"tgt.hashkey\": \"src.src_hash\",\n",
    "        \"tgt.updateddate\": current_timestamp(),\n",
    "        \"tgt.updatedby\": lit(\"databricks-updated\")\n",
    "    }\n",
    ").whenNotMatchedInsert(\n",
    "    values={\n",
    "        \"tgt.payment_id\": \"src.payment_id\",\n",
    "        \"tgt.loan_id\": \"src.loan_id\",\n",
    "        \"tgt.payment_date\": \"src.payment_date\",\n",
    "        \"tgt.payment_amount\": \"src.payment_amount\",\n",
    "        \"tgt.hashkey\": \"src.src_hash\",\n",
    "        \"tgt.createddate\": current_timestamp(),\n",
    "        \"tgt.createdby\": lit(\"databricks\"),\n",
    "        \"tgt.updateddate\": current_timestamp(),\n",
    "        \"tgt.updatedby\": lit(\"databricks\")\n",
    "    }\n",
    ").execute()"
   ]
  },
  {
   "cell_type": "code",
   "execution_count": 0,
   "metadata": {
    "application/vnd.databricks.v1+cell": {
     "cellMetadata": {
      "byteLimit": 2048000,
      "implicitDf": true,
      "rowLimit": 10000
     },
     "inputWidgets": {},
     "nuid": "06b26d11-8025-4933-8f44-1d3875463878",
     "showTitle": false,
     "tableResultSettingsMap": {},
     "title": ""
    }
   },
   "outputs": [],
   "source": [
    "%sql\n",
    "select * from hive_metastore.default.loanpayments"
   ]
  },
  {
   "cell_type": "code",
   "execution_count": 0,
   "metadata": {
    "application/vnd.databricks.v1+cell": {
     "cellMetadata": {
      "byteLimit": 2048000,
      "rowLimit": 10000
     },
     "inputWidgets": {},
     "nuid": "37821dc5-746e-4d57-9d76-7ee345f91e5c",
     "showTitle": false,
     "tableResultSettingsMap": {},
     "title": ""
    }
   },
   "outputs": [],
   "source": [
    "df_transactions=spark.read.format(\"parquet\").load(\"/mnt/adlsgen2project2container/SilverLayer/ParquetFiles/Transactions\")\n",
    "display(df_transactions)"
   ]
  },
  {
   "cell_type": "code",
   "execution_count": 0,
   "metadata": {
    "application/vnd.databricks.v1+cell": {
     "cellMetadata": {
      "byteLimit": 2048000,
      "rowLimit": 10000
     },
     "inputWidgets": {},
     "nuid": "51bd76fe-44fa-4ecd-b2b9-5cb026cf5fba",
     "showTitle": false,
     "tableResultSettingsMap": {},
     "title": ""
    }
   },
   "outputs": [],
   "source": [
    "df_transactions_hash=df_transactions.withColumn('src_hash', crc32(concat(col('transaction_id'), col('account_id'), col('transaction_date'), col('transaction_amount'),col('transaction_type'))))\n",
    "display(df_transactions_hash)"
   ]
  },
  {
   "cell_type": "code",
   "execution_count": 0,
   "metadata": {
    "application/vnd.databricks.v1+cell": {
     "cellMetadata": {
      "byteLimit": 2048000,
      "rowLimit": 10000
     },
     "inputWidgets": {},
     "nuid": "60f6d30f-5514-425c-8383-255c39030965",
     "showTitle": false,
     "tableResultSettingsMap": {},
     "title": ""
    }
   },
   "outputs": [],
   "source": [
    "tgt_path_transactions='/mnt/adlsgen2project2container/GoldLayer/Transactions'\n",
    "from delta.tables import DeltaTable\n",
    "dtabletransactions = DeltaTable.forPath(spark, tgt_path_transactions)\n",
    "dtabletransactions.toDF().show()"
   ]
  },
  {
   "cell_type": "code",
   "execution_count": 0,
   "metadata": {
    "application/vnd.databricks.v1+cell": {
     "cellMetadata": {
      "byteLimit": 2048000,
      "rowLimit": 10000
     },
     "inputWidgets": {},
     "nuid": "3a9db77f-9c29-4307-8eaf-43032cf9be4c",
     "showTitle": false,
     "tableResultSettingsMap": {},
     "title": ""
    }
   },
   "outputs": [],
   "source": [
    "df_src_transactions=df_transactions_hash.alias(\"src\").join(dtabletransactions.toDF().alias(\"tgt\"), ((col(\"src.transaction_id\")== col(\"tgt.transaction_id\")) & (col(\"src.src_hash\")== col(\"tgt.hashkey\"))),\"anti\").select(\"src.*\")\n",
    "display(df_src_transactions)"
   ]
  },
  {
   "cell_type": "code",
   "execution_count": 0,
   "metadata": {
    "application/vnd.databricks.v1+cell": {
     "cellMetadata": {
      "byteLimit": 2048000,
      "rowLimit": 10000
     },
     "inputWidgets": {},
     "nuid": "907dc2a0-2296-4b8f-9969-be48e32aac1e",
     "showTitle": false,
     "tableResultSettingsMap": {},
     "title": ""
    }
   },
   "outputs": [],
   "source": [
    "dtabletransactions.alias(\"tgt\").merge(\n",
    "    df_src_transactions.alias(\"src\"), \"tgt.transaction_id = src.transaction_id\"\n",
    ").whenMatchedUpdate(\n",
    "    set={\n",
    "        \"tgt.transaction_id\": \"src.transaction_id\",\n",
    "        \"tgt.account_id\": \"src.account_id\",\n",
    "        \"tgt.transaction_date\": \"src.transaction_date\",\n",
    "        \"tgt.transaction_amount\": \"src.transaction_amount\",\n",
    "        \"tgt.transaction_type\": \"src.transaction_type\",\n",
    "        \"tgt.hashkey\": \"src.src_hash\",\n",
    "        \"tgt.updateddate\": current_timestamp(),\n",
    "        \"tgt.updatedby\": lit(\"databricks-updated\")\n",
    "    }\n",
    ").whenNotMatchedInsert(\n",
    "    values={\n",
    "        \"tgt.transaction_id\": \"src.transaction_id\",\n",
    "        \"tgt.account_id\": \"src.account_id\",\n",
    "        \"tgt.transaction_date\": \"src.transaction_date\",\n",
    "        \"tgt.transaction_amount\": \"src.transaction_amount\",\n",
    "        \"tgt.transaction_type\": \"src.transaction_type\",\n",
    "        \"tgt.hashkey\": \"src.src_hash\",\n",
    "        \"tgt.createddate\": current_timestamp(),\n",
    "        \"tgt.createdby\": lit(\"databricks\"),\n",
    "        \"tgt.updateddate\": current_timestamp(),\n",
    "        \"tgt.updatedby\": lit(\"databricks\")\n",
    "    }\n",
    ").execute()"
   ]
  },
  {
   "cell_type": "code",
   "execution_count": 0,
   "metadata": {
    "application/vnd.databricks.v1+cell": {
     "cellMetadata": {
      "byteLimit": 2048000,
      "implicitDf": true,
      "rowLimit": 10000
     },
     "inputWidgets": {},
     "nuid": "bd2bb64b-d65b-4440-bb1c-808492613127",
     "showTitle": false,
     "tableResultSettingsMap": {},
     "title": ""
    }
   },
   "outputs": [],
   "source": [
    "%sql\n",
    "select * from hive_metastore.default.transactions"
   ]
  }
 ],
 "metadata": {
  "application/vnd.databricks.v1+notebook": {
   "computePreferences": null,
   "dashboards": [],
   "environmentMetadata": {
    "base_environment": "",
    "environment_version": "2"
   },
   "inputWidgetPreferences": null,
   "language": "python",
   "notebookMetadata": {
    "mostRecentlyExecutedCommandWithImplicitDF": {
     "commandId": 7012109070129714,
     "dataframes": [
      "_sqldf"
     ]
    },
    "pythonIndentUnit": 4
   },
   "notebookName": "GoldLayerProject2",
   "widgets": {}
  },
  "language_info": {
   "name": "python"
  }
 },
 "nbformat": 4,
 "nbformat_minor": 0
}
