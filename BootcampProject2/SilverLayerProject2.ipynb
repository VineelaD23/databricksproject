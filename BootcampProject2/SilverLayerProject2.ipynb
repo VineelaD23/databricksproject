{
 "cells": [
  {
   "cell_type": "code",
   "execution_count": 0,
   "metadata": {
    "application/vnd.databricks.v1+cell": {
     "cellMetadata": {
      "byteLimit": 2048000,
      "rowLimit": 10000
     },
     "inputWidgets": {},
     "nuid": "d3965888-4e27-4968-9650-bd858601be88",
     "showTitle": false,
     "tableResultSettingsMap": {},
     "title": ""
    }
   },
   "outputs": [],
   "source": [
    "dbutils.fs.ls('/mnt/adlsgen2project2container/')"
   ]
  },
  {
   "cell_type": "code",
   "execution_count": 0,
   "metadata": {
    "application/vnd.databricks.v1+cell": {
     "cellMetadata": {
      "byteLimit": 2048000,
      "rowLimit": 10000
     },
     "inputWidgets": {},
     "nuid": "9cf1eafc-164f-40a0-b9f9-68a7288be842",
     "showTitle": false,
     "tableResultSettingsMap": {},
     "title": ""
    }
   },
   "outputs": [],
   "source": [
    "from datetime import datetime\n",
    "\n",
    "today = datetime.today()\n",
    "src_path = f\"/mnt/adlsgen2project2container/BronzeLayer/{today.year}/{today.strftime('%m')}/{today.strftime('%d')}\"\n",
    "print(\"Today's path:\", src_path)"
   ]
  },
  {
   "cell_type": "code",
   "execution_count": 0,
   "metadata": {
    "application/vnd.databricks.v1+cell": {
     "cellMetadata": {
      "byteLimit": 2048000,
      "rowLimit": 10000
     },
     "inputWidgets": {},
     "nuid": "015ea732-222c-4175-926a-0b3e2a77be76",
     "showTitle": false,
     "tableResultSettingsMap": {},
     "title": ""
    }
   },
   "outputs": [],
   "source": [
    "try:\n",
    "    dbutils.fs.ls(src_path)\n",
    "except:\n",
    "    print(f'File path not found {src_path}')"
   ]
  },
  {
   "cell_type": "code",
   "execution_count": 0,
   "metadata": {
    "application/vnd.databricks.v1+cell": {
     "cellMetadata": {
      "byteLimit": 2048000,
      "rowLimit": 10000
     },
     "inputWidgets": {},
     "nuid": "56ef665b-c27a-42e5-98ec-58bdca5e231e",
     "showTitle": false,
     "tableResultSettingsMap": {},
     "title": ""
    }
   },
   "outputs": [],
   "source": [
    "src_pathAccounts = src_path + '/accounts.csv'"
   ]
  },
  {
   "cell_type": "code",
   "execution_count": 0,
   "metadata": {
    "application/vnd.databricks.v1+cell": {
     "cellMetadata": {
      "byteLimit": 2048000,
      "rowLimit": 10000
     },
     "inputWidgets": {},
     "nuid": "b20dc856-87d4-4165-8dad-ffa95e4922c1",
     "showTitle": false,
     "tableResultSettingsMap": {},
     "title": ""
    }
   },
   "outputs": [],
   "source": [
    "def createDataframeAccounts(src_pathAccounts, schema):\n",
    "    try:\n",
    "        return spark.read.format(\"csv\").option(\"header\", \"true\").schema(schema).load(src_pathAccounts)\n",
    "    except:\n",
    "        print(f'File path not found {src_pathAccounts}')\n",
    "        return spark.createDataFrame([],schema)\n"
   ]
  },
  {
   "cell_type": "code",
   "execution_count": 0,
   "metadata": {
    "application/vnd.databricks.v1+cell": {
     "cellMetadata": {
      "byteLimit": 2048000,
      "rowLimit": 10000
     },
     "inputWidgets": {},
     "nuid": "c2eb7ddc-70ae-426c-8db0-c56e719cf770",
     "showTitle": false,
     "tableResultSettingsMap": {},
     "title": ""
    }
   },
   "outputs": [],
   "source": [
    "from pyspark.sql.types import StructType, StructField, StringType, IntegerType, DoubleType, DateType"
   ]
  },
  {
   "cell_type": "code",
   "execution_count": 0,
   "metadata": {
    "application/vnd.databricks.v1+cell": {
     "cellMetadata": {
      "byteLimit": 2048000,
      "rowLimit": 10000
     },
     "inputWidgets": {},
     "nuid": "e3dfa81c-6388-4bbc-9df1-688bda71a3b0",
     "showTitle": false,
     "tableResultSettingsMap": {},
     "title": ""
    }
   },
   "outputs": [],
   "source": [
    "accounts_schema=StructType([StructField('account_id', IntegerType()), StructField('customer_id', IntegerType()), StructField('account_type', StringType()), StructField('balance', DoubleType())])"
   ]
  },
  {
   "cell_type": "code",
   "execution_count": 0,
   "metadata": {
    "application/vnd.databricks.v1+cell": {
     "cellMetadata": {
      "byteLimit": 2048000,
      "rowLimit": 10000
     },
     "inputWidgets": {},
     "nuid": "bc7eae51-ee87-4b29-ba84-4caa90763553",
     "showTitle": false,
     "tableResultSettingsMap": {},
     "title": ""
    }
   },
   "outputs": [],
   "source": [
    "accounts= createDataframeAccounts(src_pathAccounts, accounts_schema)"
   ]
  },
  {
   "cell_type": "code",
   "execution_count": 0,
   "metadata": {
    "application/vnd.databricks.v1+cell": {
     "cellMetadata": {
      "byteLimit": 2048000,
      "rowLimit": 10000
     },
     "inputWidgets": {},
     "nuid": "4e530bb5-bc6f-45cb-8e48-d751c1eeec33",
     "showTitle": false,
     "tableResultSettingsMap": {},
     "title": ""
    }
   },
   "outputs": [],
   "source": [
    "display(accounts)"
   ]
  },
  {
   "cell_type": "code",
   "execution_count": 0,
   "metadata": {
    "application/vnd.databricks.v1+cell": {
     "cellMetadata": {
      "byteLimit": 2048000,
      "rowLimit": 10000
     },
     "inputWidgets": {},
     "nuid": "77eeb5a0-d525-467e-b04a-8cf0253d267f",
     "showTitle": false,
     "tableResultSettingsMap": {},
     "title": ""
    }
   },
   "outputs": [],
   "source": [
    "def createDataFrameCustomers(src_pathCustomers, customer_schema):\n",
    "    try:\n",
    "        return spark.read.format(\"csv\").option(\"header\", \"true\").schema(customer_schema).load(src_pathCustomers)\n",
    "    except:\n",
    "        print(f'File path not found {src_pathCustomers}')\n",
    "        return spark.createDataFrame([],customer_schema)"
   ]
  },
  {
   "cell_type": "code",
   "execution_count": 0,
   "metadata": {
    "application/vnd.databricks.v1+cell": {
     "cellMetadata": {
      "byteLimit": 2048000,
      "rowLimit": 10000
     },
     "inputWidgets": {},
     "nuid": "66d9332d-67ba-4727-9dc1-d7ccdb22c400",
     "showTitle": false,
     "tableResultSettingsMap": {},
     "title": ""
    }
   },
   "outputs": [],
   "source": [
    "customer_schema=StructType([StructField('customer_id', IntegerType()), StructField('first_name', StringType()), StructField('last_name', StringType()), StructField('address', StringType()), StructField('city', StringType()), StructField('state', StringType()), StructField('zip', StringType())])"
   ]
  },
  {
   "cell_type": "code",
   "execution_count": 0,
   "metadata": {
    "application/vnd.databricks.v1+cell": {
     "cellMetadata": {
      "byteLimit": 2048000,
      "rowLimit": 10000
     },
     "inputWidgets": {},
     "nuid": "30458791-edfc-4e2a-ab97-95f6913264b2",
     "showTitle": false,
     "tableResultSettingsMap": {},
     "title": ""
    }
   },
   "outputs": [],
   "source": [
    "src_pathCustomers = src_path + '/customers.csv'\n",
    "customers= createDataFrameCustomers(src_pathCustomers, customer_schema)\n",
    "display(customers)"
   ]
  },
  {
   "cell_type": "code",
   "execution_count": 0,
   "metadata": {
    "application/vnd.databricks.v1+cell": {
     "cellMetadata": {
      "byteLimit": 2048000,
      "rowLimit": 10000
     },
     "inputWidgets": {},
     "nuid": "c6ebd722-fe1f-414b-8835-f97ded4b0f1e",
     "showTitle": false,
     "tableResultSettingsMap": {},
     "title": ""
    }
   },
   "outputs": [],
   "source": [
    "def createDataFrameTransactions(src_pathTransactions, schema):\n",
    "    try:\n",
    "        return spark.read.format(\"csv\").option(\"header\", \"true\").schema(schema).load(src_pathTransactions)\n",
    "          \n",
    "    except:\n",
    "        print(f'File path not found {src_pathTransactions}')\n",
    "        return spark.createDataFrame([],schema)\n"
   ]
  },
  {
   "cell_type": "code",
   "execution_count": 0,
   "metadata": {
    "application/vnd.databricks.v1+cell": {
     "cellMetadata": {
      "byteLimit": 2048000,
      "rowLimit": 10000
     },
     "inputWidgets": {},
     "nuid": "0301b5ec-f06c-4bf4-8948-281820fa069f",
     "showTitle": false,
     "tableResultSettingsMap": {},
     "title": ""
    }
   },
   "outputs": [],
   "source": [
    "transaction_schema=StructType([StructField('transaction_id', IntegerType()), StructField('account_id', IntegerType()), StructField('transaction_date', DateType()), StructField('transaction_amount', DoubleType()), StructField('transaction_type', StringType())])"
   ]
  },
  {
   "cell_type": "code",
   "execution_count": 0,
   "metadata": {
    "application/vnd.databricks.v1+cell": {
     "cellMetadata": {
      "byteLimit": 2048000,
      "rowLimit": 10000
     },
     "inputWidgets": {},
     "nuid": "e50e69fd-00ac-4986-a631-f7f2175d0def",
     "showTitle": false,
     "tableResultSettingsMap": {},
     "title": ""
    }
   },
   "outputs": [],
   "source": [
    "src_pathTransactions = src_path + '/transactions.csv'\n",
    "transactions=createDataFrameTransactions(src_pathTransactions, transaction_schema)\n",
    "display(transactions)"
   ]
  },
  {
   "cell_type": "code",
   "execution_count": 0,
   "metadata": {
    "application/vnd.databricks.v1+cell": {
     "cellMetadata": {
      "byteLimit": 2048000,
      "rowLimit": 10000
     },
     "inputWidgets": {},
     "nuid": "1a7d8764-ef24-4187-837f-b93dc4ed28c4",
     "showTitle": false,
     "tableResultSettingsMap": {},
     "title": ""
    }
   },
   "outputs": [],
   "source": [
    "def createDataFrameLoans(src_pathLoans, schema):\n",
    "    try:\n",
    "        return spark.read.format(\"csv\").option(\"header\", \"true\").schema(schema).load(src_pathLoans)\n",
    "          \n",
    "    except:\n",
    "        print(f'File path not found {src_pathLoans}')\n",
    "        return spark.createDataFrame([],schema)"
   ]
  },
  {
   "cell_type": "code",
   "execution_count": 0,
   "metadata": {
    "application/vnd.databricks.v1+cell": {
     "cellMetadata": {
      "byteLimit": 2048000,
      "rowLimit": 10000
     },
     "inputWidgets": {},
     "nuid": "05c8b07c-413f-4d12-b2c9-a645accb0163",
     "showTitle": false,
     "tableResultSettingsMap": {},
     "title": ""
    }
   },
   "outputs": [],
   "source": [
    "loans_schema=StructType([StructField('loan_id', IntegerType()), StructField('customer_id', IntegerType()), StructField('loan_amount', DoubleType()), StructField('interest_rate', DoubleType()), StructField('loan_term', IntegerType())])"
   ]
  },
  {
   "cell_type": "code",
   "execution_count": 0,
   "metadata": {
    "application/vnd.databricks.v1+cell": {
     "cellMetadata": {
      "byteLimit": 2048000,
      "rowLimit": 10000
     },
     "inputWidgets": {},
     "nuid": "80a16b0d-7933-41d8-81be-69f9b6d0baa5",
     "showTitle": true,
     "tableResultSettingsMap": {},
     "title": ""
    }
   },
   "outputs": [],
   "source": [
    "src_pathLoans = src_path + '/loans.csv'\n",
    "loans= createDataFrameLoans(src_pathLoans, loans_schema)\n",
    "display(loans)"
   ]
  },
  {
   "cell_type": "code",
   "execution_count": 0,
   "metadata": {
    "application/vnd.databricks.v1+cell": {
     "cellMetadata": {
      "byteLimit": 2048000,
      "rowLimit": 10000
     },
     "inputWidgets": {},
     "nuid": "b9c4e58a-3c5f-4495-8f90-a21911290def",
     "showTitle": false,
     "tableResultSettingsMap": {},
     "title": ""
    }
   },
   "outputs": [],
   "source": [
    "def createDataFrameLoanPayments(src_pathLoanPayments, schema):\n",
    "    try:\n",
    "        return spark.read.format(\"csv\").option(\"header\", \"true\").schema(schema).load(src_pathLoanPayments)\n",
    "          \n",
    "    except:\n",
    "        print(f'File path not found {src_pathLoanPayments}')\n",
    "        return spark.createDataFrame([],schema)"
   ]
  },
  {
   "cell_type": "code",
   "execution_count": 0,
   "metadata": {
    "application/vnd.databricks.v1+cell": {
     "cellMetadata": {
      "byteLimit": 2048000,
      "rowLimit": 10000
     },
     "inputWidgets": {},
     "nuid": "77fc395e-b578-4dfe-be8e-8650fbbf9291",
     "showTitle": false,
     "tableResultSettingsMap": {},
     "title": ""
    }
   },
   "outputs": [],
   "source": [
    "loanPayments_schema=StructType([StructField('payment_id', IntegerType()), StructField('loan_id', IntegerType()), StructField('payment_date', DateType()),StructField('payment_amount', DoubleType())])"
   ]
  },
  {
   "cell_type": "code",
   "execution_count": 0,
   "metadata": {
    "application/vnd.databricks.v1+cell": {
     "cellMetadata": {
      "byteLimit": 2048000,
      "rowLimit": 10000
     },
     "inputWidgets": {},
     "nuid": "bc9ee6df-8f8d-473c-b694-ce27a31602f0",
     "showTitle": false,
     "tableResultSettingsMap": {},
     "title": ""
    }
   },
   "outputs": [],
   "source": [
    "src_pathLoanPayments = src_path + '/loan_payments.csv'\n",
    "loanPayments= createDataFrameLoanPayments(src_pathLoanPayments, loanPayments_schema)\n",
    "display(loanPayments)"
   ]
  },
  {
   "cell_type": "code",
   "execution_count": 0,
   "metadata": {
    "application/vnd.databricks.v1+cell": {
     "cellMetadata": {
      "byteLimit": 2048000,
      "rowLimit": 10000
     },
     "inputWidgets": {},
     "nuid": "bfd14d50-708c-45e3-9431-bebabfc628b7",
     "showTitle": false,
     "tableResultSettingsMap": {},
     "title": ""
    }
   },
   "outputs": [],
   "source": [
    "customers=customers.dropna(subset=[\"customer_id\"]).dropDuplicates()\n",
    "customers=customers.fillna(\"unknown\",subset=[\"address\",\"zip\",\"state\",\"city\",\"last_name\"])\n",
    "display(customers)\n",
    "customers.write.mode(\"overwrite\").option(\"header\", \"true\").parquet('/mnt/adlsgen2project2container/SilverLayer/ParquetFiles/Customers')"
   ]
  },
  {
   "cell_type": "code",
   "execution_count": 0,
   "metadata": {
    "application/vnd.databricks.v1+cell": {
     "cellMetadata": {
      "byteLimit": 2048000,
      "rowLimit": 10000
     },
     "inputWidgets": {},
     "nuid": "a24065f2-ba31-4a11-87fd-a4625a9f297f",
     "showTitle": false,
     "tableResultSettingsMap": {},
     "title": ""
    }
   },
   "outputs": [],
   "source": [
    "accounts=accounts.dropna(subset=[\"account_id\",\"customer_id\"]).dropDuplicates().fillna(\"CheckingandSaving\",\"account_type\").fillna(\"0.0\",\"balance\")\n",
    "display(accounts)\n",
    "accounts.write.mode(\"overwrite\").option(\"header\", \"true\").parquet('/mnt/adlsgen2project2container/SilverLayer/ParquetFiles/Accounts')"
   ]
  },
  {
   "cell_type": "code",
   "execution_count": 0,
   "metadata": {
    "application/vnd.databricks.v1+cell": {
     "cellMetadata": {
      "byteLimit": 2048000,
      "rowLimit": 10000
     },
     "inputWidgets": {},
     "nuid": "4330ed50-6afa-4f50-8527-e90565871bdd",
     "showTitle": false,
     "tableResultSettingsMap": {},
     "title": ""
    }
   },
   "outputs": [],
   "source": [
    "loans=loans.dropna(subset=[\"loan_id\",\"customer_id\"]).dropDuplicates().fillna(\"0.0\",\"loan_amount\").fillna(\"0.0\",\"interest_rate\").fillna(\"0\",\"loan_term\")\n",
    "display(loans)\n",
    "loans.write.mode(\"overwrite\").option(\"header\", \"true\").parquet('/mnt/adlsgen2project2container/SilverLayer/ParquetFiles/Loans')"
   ]
  },
  {
   "cell_type": "code",
   "execution_count": 0,
   "metadata": {
    "application/vnd.databricks.v1+cell": {
     "cellMetadata": {
      "byteLimit": 2048000,
      "rowLimit": 10000
     },
     "inputWidgets": {},
     "nuid": "ab5d485c-fc65-4e86-9f1c-dc8e6d0dd0ba",
     "showTitle": false,
     "tableResultSettingsMap": {},
     "title": ""
    }
   },
   "outputs": [],
   "source": [
    "loanPayments=loanPayments.dropna(subset=[\"payment_id\",\"loan_id\"]).dropDuplicates().fillna(\"0.0\",\"payment_amount\").fillna(\"1900-01-01\",\"payment_date\")\n",
    "display(loanPayments)\n",
    "loanPayments.write.mode(\"overwrite\").option(\"header\", \"true\").parquet('/mnt/adlsgen2project2container/SilverLayer/ParquetFiles/LoanPayments')"
   ]
  },
  {
   "cell_type": "code",
   "execution_count": 0,
   "metadata": {
    "application/vnd.databricks.v1+cell": {
     "cellMetadata": {
      "byteLimit": 2048000,
      "rowLimit": 10000
     },
     "inputWidgets": {},
     "nuid": "d05c61b5-f71e-4fd6-87b4-991bd9228bff",
     "showTitle": false,
     "tableResultSettingsMap": {},
     "title": ""
    }
   },
   "outputs": [],
   "source": [
    "transactions=transactions.dropna(subset=[\"transaction_id\",\"account_id\"]).dropDuplicates().fillna(\"0.0\",\"transaction_amount\").fillna(\"1900-01-01\",\"transaction_date\").fillna(\"unknown\",\"transaction_type\")\n",
    "display(transactions)\n",
    "transactions.write.mode(\"overwrite\").option(\"header\", \"true\").parquet('/mnt/adlsgen2project2container/SilverLayer/ParquetFiles/Transactions')"
   ]
  },
  {
   "cell_type": "code",
   "execution_count": 0,
   "metadata": {
    "application/vnd.databricks.v1+cell": {
     "cellMetadata": {
      "byteLimit": 2048000,
      "rowLimit": 10000
     },
     "inputWidgets": {},
     "nuid": "a53271c1-2364-421d-9524-c866258d29c9",
     "showTitle": false,
     "tableResultSettingsMap": {},
     "title": ""
    }
   },
   "outputs": [],
   "source": [
    "df_delta=accounts.join(customers, on=\"customer_id\", how=\"inner\").join(transactions, on=\"account_id\", how=\"inner\").join(loans, on=\"customer_id\", how=\"inner\").join(loanPayments, on=\"loan_id\", how=\"inner\")"
   ]
  },
  {
   "cell_type": "code",
   "execution_count": 0,
   "metadata": {
    "application/vnd.databricks.v1+cell": {
     "cellMetadata": {
      "byteLimit": 2048000,
      "rowLimit": 10000
     },
     "inputWidgets": {},
     "nuid": "c6930d71-8a63-46f8-8652-294462c03364",
     "showTitle": false,
     "tableResultSettingsMap": {},
     "title": ""
    }
   },
   "outputs": [],
   "source": [
    "df=df_delta.select(\"account_id\",\"customer_id\",\"loan_id\",\"payment_id\",\"transaction_id\",\"balance\",\"payment_amount\",\"loan_amount\",\"transaction_amount\",\"payment_date\",\"transaction_date\")\n",
    "display(df)"
   ]
  },
  {
   "cell_type": "code",
   "execution_count": 0,
   "metadata": {
    "application/vnd.databricks.v1+cell": {
     "cellMetadata": {
      "byteLimit": 2048000,
      "rowLimit": 10000
     },
     "inputWidgets": {},
     "nuid": "92ebf5bb-945e-4412-b9a7-3c2f3a1d082b",
     "showTitle": false,
     "tableResultSettingsMap": {},
     "title": ""
    }
   },
   "outputs": [],
   "source": [
    "df.write.mode(\"append\").format(\"Delta\").option(\"header\", \"true\").save('/mnt/adlsgen2project2container/SilverLayer/DeltaFiles')"
   ]
  },
  {
   "cell_type": "code",
   "execution_count": 0,
   "metadata": {
    "application/vnd.databricks.v1+cell": {
     "cellMetadata": {
      "byteLimit": 2048000,
      "rowLimit": 10000
     },
     "inputWidgets": {},
     "nuid": "2c6d37e5-cbf0-4b16-937c-70a75f9d57b6",
     "showTitle": false,
     "tableResultSettingsMap": {},
     "title": ""
    }
   },
   "outputs": [],
   "source": [
    "df.printSchema()"
   ]
  },
  {
   "cell_type": "code",
   "execution_count": 0,
   "metadata": {
    "application/vnd.databricks.v1+cell": {
     "cellMetadata": {
      "byteLimit": 2048000,
      "implicitDf": true,
      "rowLimit": 10000
     },
     "inputWidgets": {},
     "nuid": "7b4d99e0-768e-4a7a-8254-f080c38a7309",
     "showTitle": false,
     "tableResultSettingsMap": {},
     "title": ""
    }
   },
   "outputs": [],
   "source": [
    "%sql\n",
    "use catalog hive_metastore"
   ]
  },
  {
   "cell_type": "code",
   "execution_count": 0,
   "metadata": {
    "application/vnd.databricks.v1+cell": {
     "cellMetadata": {
      "byteLimit": 2048000,
      "implicitDf": true,
      "rowLimit": 10000
     },
     "inputWidgets": {},
     "nuid": "64a27973-13af-4f82-9adb-7ce3b888e5fb",
     "showTitle": false,
     "tableResultSettingsMap": {},
     "title": ""
    }
   },
   "outputs": [],
   "source": [
    "%sql\n",
    "CREATE TABLE IF NOT EXISTS hive_metastore.default.jointables\n",
    "(\n",
    "    account_id INT,\n",
    "    customer_id INT,\n",
    "    loan_id INT,\n",
    "    payment_id INT,\n",
    "    transaction_id INT,\n",
    "    balance DOUBLE,\n",
    "    payment_amount DOUBLE,\n",
    "    loan_amount DOUBLE,\n",
    "    transaction_amount DOUBLE,\n",
    "    payment_date DATE,\n",
    "    transaction_date DATE\n",
    ")\n",
    "USING DELTA\n",
    "LOCATION '/mnt/adlsgen2project2container/SilverLayer/DeltaFiles';"
   ]
  },
  {
   "cell_type": "code",
   "execution_count": 0,
   "metadata": {
    "application/vnd.databricks.v1+cell": {
     "cellMetadata": {
      "byteLimit": 2048000,
      "implicitDf": true,
      "rowLimit": 10000
     },
     "inputWidgets": {},
     "nuid": "45b055df-ecb8-430e-97d1-f6d05232d6f0",
     "showTitle": false,
     "tableResultSettingsMap": {},
     "title": ""
    }
   },
   "outputs": [],
   "source": [
    "%sql\n",
    "select * from hive_metastore.default.jointables\n"
   ]
  },
  {
   "cell_type": "code",
   "execution_count": 0,
   "metadata": {
    "application/vnd.databricks.v1+cell": {
     "cellMetadata": {
      "byteLimit": 2048000,
      "rowLimit": 10000
     },
     "inputWidgets": {},
     "nuid": "85ecb4f0-e1ab-49bb-b301-b764a3e960e8",
     "showTitle": false,
     "tableResultSettingsMap": {},
     "title": ""
    }
   },
   "outputs": [],
   "source": []
  },
  {
   "cell_type": "code",
   "execution_count": 0,
   "metadata": {
    "application/vnd.databricks.v1+cell": {
     "cellMetadata": {
      "byteLimit": 2048000,
      "rowLimit": 10000
     },
     "inputWidgets": {},
     "nuid": "b3354f29-3616-4c97-a2f4-4b1cf3bc2122",
     "showTitle": false,
     "tableResultSettingsMap": {},
     "title": ""
    }
   },
   "outputs": [],
   "source": [
    "# from pyspark.sql.functions import *"
   ]
  },
  {
   "cell_type": "code",
   "execution_count": 0,
   "metadata": {
    "application/vnd.databricks.v1+cell": {
     "cellMetadata": {
      "byteLimit": 2048000,
      "rowLimit": 10000
     },
     "inputWidgets": {},
     "nuid": "3a64fe47-2f80-4d7a-a273-a4ec69ca824c",
     "showTitle": false,
     "tableResultSettingsMap": {},
     "title": ""
    }
   },
   "outputs": [],
   "source": [
    "# acc_cust_df = accounts.join(customers, on=\"customer_id\", how=\"inner\").join(transactions, on=\"account_id\", how=\"inner\")\n",
    "\n",
    "# loans_payments_df = loans.join(loanPayments, on=\"loan_id\", how=\"left\")\n",
    "\n",
    "# merged_df = acc_cust_df.join(loans_payments_df, on=\"customer_id\", how=\"inner\")"
   ]
  },
  {
   "cell_type": "code",
   "execution_count": 0,
   "metadata": {
    "application/vnd.databricks.v1+cell": {
     "cellMetadata": {
      "byteLimit": 2048000,
      "rowLimit": 10000
     },
     "inputWidgets": {},
     "nuid": "4770b704-c269-44a7-94ac-23428d2206ef",
     "showTitle": false,
     "tableResultSettingsMap": {},
     "title": ""
    }
   },
   "outputs": [],
   "source": [
    "# df_selected_columns = merged_df.select(\n",
    "#     col(\"account_id\").alias(\"Account_ID\"),\n",
    "#     col(\"customer_id\").alias(\"Customer_ID\"),\n",
    "#     col(\"loan_id\").alias(\"Loan_ID\"),\n",
    "#     col(\"payment_id\").alias(\"Payment_ID\"),\n",
    "#     col(\"transaction_id\").alias(\"Transaction_ID\"),\n",
    "#     col(\"balance\").alias(\"Account_Balance\"),\n",
    "#     col(\"payment_amount\").alias(\"Payment_Amount\"),\n",
    "#     col(\"loan_amount\").alias(\"Loan_Amount\"),\n",
    "#     col(\"transaction_amount\").alias(\"Transaction_Amount\"),\n",
    "#     col(\"payment_date\").alias(\"Payment_Date\"),\n",
    "#     col(\"transaction_date\").alias(\"Transaction_Date\")\n",
    "# )\n",
    "\n",
    "# display(df_selected_columns)"
   ]
  },
  {
   "cell_type": "code",
   "execution_count": 0,
   "metadata": {
    "application/vnd.databricks.v1+cell": {
     "cellMetadata": {
      "byteLimit": 2048000,
      "rowLimit": 10000
     },
     "inputWidgets": {},
     "nuid": "ad8e0a2f-4734-4fa5-a366-417ef141446b",
     "showTitle": false,
     "tableResultSettingsMap": {},
     "title": ""
    }
   },
   "outputs": [],
   "source": [
    "# df_selected_columns.write.format(\"delta\").mode(\"overwrite\").save(\"/mnt/adlsgen2project2container/SilverLayer/DeltaFiles\")"
   ]
  },
  {
   "cell_type": "code",
   "execution_count": 0,
   "metadata": {
    "application/vnd.databricks.v1+cell": {
     "cellMetadata": {
      "byteLimit": 2048000,
      "rowLimit": 10000
     },
     "inputWidgets": {},
     "nuid": "25088315-2088-4dfa-b7ce-14cee85658c4",
     "showTitle": false,
     "tableResultSettingsMap": {},
     "title": ""
    }
   },
   "outputs": [],
   "source": [
    "# df_delta=loanPayments.join(loans, loanPayments.loan_id == loans.loan_id, 'inner').select(\"payment_id\",\"payment_date\",\"payment_amount\",\"loan_amount\",\"customer_id\")\n",
    "# #select ('loanPayments.payment_id', 'loans.loan_id', 'loans.loan_amount', 'loans.interest_rate', 'loans.loan_term')"
   ]
  },
  {
   "cell_type": "code",
   "execution_count": 0,
   "metadata": {
    "application/vnd.databricks.v1+cell": {
     "cellMetadata": {
      "byteLimit": 2048000,
      "rowLimit": 10000
     },
     "inputWidgets": {},
     "nuid": "34377377-789d-4ff9-ada7-6a1d2e03f587",
     "showTitle": false,
     "tableResultSettingsMap": {},
     "title": ""
    }
   },
   "outputs": [],
   "source": [
    "# display(df_delta)"
   ]
  },
  {
   "cell_type": "code",
   "execution_count": 0,
   "metadata": {
    "application/vnd.databricks.v1+cell": {
     "cellMetadata": {
      "byteLimit": 2048000,
      "rowLimit": 10000
     },
     "inputWidgets": {},
     "nuid": "93679b5b-4af0-4955-b47b-819f68297e49",
     "showTitle": false,
     "tableResultSettingsMap": {},
     "title": ""
    }
   },
   "outputs": [],
   "source": [
    "# from pyspark.sql.functions import col"
   ]
  },
  {
   "cell_type": "code",
   "execution_count": 0,
   "metadata": {
    "application/vnd.databricks.v1+cell": {
     "cellMetadata": {
      "byteLimit": 2048000,
      "rowLimit": 10000
     },
     "inputWidgets": {},
     "nuid": "4524ab9b-42d8-4b83-9d29-476d43d2941e",
     "showTitle": false,
     "tableResultSettingsMap": {},
     "title": ""
    }
   },
   "outputs": [],
   "source": [
    "# df_delta = loanPayments.join(\n",
    "#     loans, \n",
    "#     loanPayments.loan_id == loans.loan_amount_id, \n",
    "#     'inner'\n",
    "# ).select(\n",
    "#     loanPayments.payment_id,\n",
    "#     loans.loan_id,\n",
    "#     loans.loan_amount,\n",
    "#     loans.interest_rate,\n",
    "#     loans.loan_term\n",
    "# )"
   ]
  },
  {
   "cell_type": "code",
   "execution_count": 0,
   "metadata": {
    "application/vnd.databricks.v1+cell": {
     "cellMetadata": {
      "byteLimit": 2048000,
      "rowLimit": 10000
     },
     "inputWidgets": {},
     "nuid": "b56a4437-2819-4beb-922f-fd3d59fb0499",
     "showTitle": false,
     "tableResultSettingsMap": {},
     "title": ""
    }
   },
   "outputs": [],
   "source": [
    "# df_delta=loanPayments.join(customers, customers.account_id == loanPayments.account_id, 'inner').join(loans, customers.customer_id == loans.customer_id, 'inner').join(loanPayments, loans.loan_id == loanPayments.loan_id, 'inner')"
   ]
  },
  {
   "cell_type": "code",
   "execution_count": 0,
   "metadata": {
    "application/vnd.databricks.v1+cell": {
     "cellMetadata": {
      "byteLimit": 2048000,
      "rowLimit": 10000
     },
     "inputWidgets": {},
     "nuid": "48d06147-683b-40d3-89d9-3ccea24430f3",
     "showTitle": false,
     "tableResultSettingsMap": {},
     "title": ""
    }
   },
   "outputs": [],
   "source": [
    "# acc_cust_df = accounts.join(customers, on=\"customer_id\", how=\"inner\").join(transactions, on=\"account_id\", how=\"inner\").join(loanPayments, on=\"loan_id\", how=\"left\").join(loanPayments, on=\"customer_id\", how=\"inner\")"
   ]
  },
  {
   "cell_type": "code",
   "execution_count": 0,
   "metadata": {
    "application/vnd.databricks.v1+cell": {
     "cellMetadata": {
      "byteLimit": 2048000,
      "rowLimit": 10000
     },
     "inputWidgets": {},
     "nuid": "e5c466e9-0681-407e-bddb-92712ca362ab",
     "showTitle": false,
     "tableResultSettingsMap": {},
     "title": ""
    }
   },
   "outputs": [],
   "source": [
    "# df_selected_columns = merged_df.select(\n",
    "#     col(\"account_id\").alias(\"Account_ID\"),\n",
    "#     col(\"customer_id\").alias(\"Customer_ID\"),\n",
    "#     col(\"loan_id\").alias(\"Loan_ID\"),\n",
    "#     col(\"payment_id\").alias(\"Payment_ID\"),\n",
    "#     col(\"transaction_id\").alias(\"Transaction_ID\"),\n",
    "#     col(\"balance\").alias(\"Account_Balance\"),\n",
    "#     col(\"payment_amount\").alias(\"Payment_Amount\"),\n",
    "#     col(\"loan_amount\").alias(\"Loan_Amount\"),\n",
    "#     col(\"transaction_amount\").alias(\"Transaction_Amount\"),\n",
    "#     col(\"payment_date\").alias(\"Payment_Date\"),\n",
    "#     col(\"transaction_date\").alias(\"Transaction_Date\")\n",
    "# )"
   ]
  }
 ],
 "metadata": {
  "application/vnd.databricks.v1+notebook": {
   "computePreferences": null,
   "dashboards": [],
   "environmentMetadata": {
    "base_environment": "",
    "environment_version": "2"
   },
   "inputWidgetPreferences": null,
   "language": "python",
   "notebookMetadata": {
    "mostRecentlyExecutedCommandWithImplicitDF": {
     "commandId": 6653122046493213,
     "dataframes": [
      "_sqldf"
     ]
    },
    "pythonIndentUnit": 4
   },
   "notebookName": "SilverLayerProject2",
   "widgets": {}
  },
  "language_info": {
   "name": "python"
  }
 },
 "nbformat": 4,
 "nbformat_minor": 0
}
